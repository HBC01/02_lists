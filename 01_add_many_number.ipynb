{
  "nbformat": 4,
  "nbformat_minor": 0,
  "metadata": {
    "colab": {
      "provenance": [],
      "authorship_tag": "ABX9TyMESikuVJ68cgkgKyTlDFMM",
      "include_colab_link": true
    },
    "kernelspec": {
      "name": "python3",
      "display_name": "Python 3"
    },
    "language_info": {
      "name": "python"
    }
  },
  "cells": [
    {
      "cell_type": "markdown",
      "metadata": {
        "id": "view-in-github",
        "colab_type": "text"
      },
      "source": [
        "<a href=\"https://colab.research.google.com/github/HBC01/02_lists/blob/main/01_add_many_number.ipynb\" target=\"_parent\"><img src=\"https://colab.research.google.com/assets/colab-badge.svg\" alt=\"Open In Colab\"/></a>"
      ]
    },
    {
      "cell_type": "markdown",
      "source": [
        "#Problem Statement\n",
        "Write a function that takes a list of numbers and returns the sum of those numbers."
      ],
      "metadata": {
        "id": "oaDWP2pvxlFR"
      }
    },
    {
      "cell_type": "code",
      "execution_count": null,
      "metadata": {
        "colab": {
          "base_uri": "https://localhost:8080/"
        },
        "id": "5qLgkJnuxZNL",
        "outputId": "91a143d6-6b3f-4e54-935f-acd864e8f501"
      },
      "outputs": [
        {
          "output_type": "stream",
          "name": "stdout",
          "text": [
            "37  All numbers are added from list\n"
          ]
        }
      ],
      "source": [
        "def add_many(numbers)->int:\n",
        "     store_numbers = 0\n",
        "     for number in numbers:\n",
        "         store_numbers += number\n",
        "     return store_numbers\n",
        "\n",
        "def main():\n",
        "    numbers = [2,4,6,7,8,10]\n",
        "    sum_numbers = add_many(numbers)\n",
        "    print(str(sum_numbers)+\"  All numbers are added from list\")\n",
        "\n",
        "main()"
      ]
    },
    {
      "cell_type": "code",
      "source": [
        "def Listed(numbers)->int:\n",
        "    stored = 0\n",
        "    for num in numbers:\n",
        "      stored += num\n",
        "    return stored\n",
        "def main():\n",
        "    numbers =[1,2,3,4]\n",
        "    add = Listed(numbers)\n",
        "    print(add)\n",
        "main()"
      ],
      "metadata": {
        "colab": {
          "base_uri": "https://localhost:8080/"
        },
        "id": "NFIIZ2-J1Hxc",
        "outputId": "b8478c76-fb29-4992-feef-03d41f858bb7"
      },
      "execution_count": null,
      "outputs": [
        {
          "output_type": "stream",
          "name": "stdout",
          "text": [
            "10\n"
          ]
        }
      ]
    }
  ]
}