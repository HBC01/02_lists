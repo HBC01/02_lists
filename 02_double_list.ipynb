{
  "nbformat": 4,
  "nbformat_minor": 0,
  "metadata": {
    "colab": {
      "provenance": [],
      "authorship_tag": "ABX9TyMAa4IRjr+Ma3QjQOeYWP22",
      "include_colab_link": true
    },
    "kernelspec": {
      "name": "python3",
      "display_name": "Python 3"
    },
    "language_info": {
      "name": "python"
    }
  },
  "cells": [
    {
      "cell_type": "markdown",
      "metadata": {
        "id": "view-in-github",
        "colab_type": "text"
      },
      "source": [
        "<a href=\"https://colab.research.google.com/github/HBC01/02_lists/blob/main/02_double_list.ipynb\" target=\"_parent\"><img src=\"https://colab.research.google.com/assets/colab-badge.svg\" alt=\"Open In Colab\"/></a>"
      ]
    },
    {
      "cell_type": "markdown",
      "source": [
        "#Problem Statement\n",
        "Write a program that doubles each element in a list of numbers. For example, if you start with this list:\n",
        "\n",
        "numbers = [1, 2, 3, 4]\n",
        "\n",
        "You should end with this list:\n",
        "\n",
        "numbers = [2, 4, 6, 8]"
      ],
      "metadata": {
        "id": "VdQkiz7W3WD-"
      }
    },
    {
      "cell_type": "code",
      "source": [
        "def main():\n",
        "    number_list = [2, 3, 4]\n",
        "\n",
        "    for i in range(len(number_list)):\n",
        "\n",
        "        double_list = number_list[i]\n",
        "\n",
        "        print(str(double_list)+\"This shows elements in list\")\n",
        "        number_list[i] = double_list*2\n",
        "\n",
        "        print(str(number_list[i])+\"This is Doubled List\")\n",
        "\n",
        "    print(str(number_list)+\" Length or index total\")\n",
        "main()"
      ],
      "metadata": {
        "colab": {
          "base_uri": "https://localhost:8080/"
        },
        "id": "6KTwJ8EqDBa0",
        "outputId": "01ee4682-f4ad-417b-daed-4f763fb5d4e9"
      },
      "execution_count": null,
      "outputs": [
        {
          "output_type": "stream",
          "name": "stdout",
          "text": [
            "2This shows elements in list\n",
            "4This is Doubled List\n",
            "3This shows elements in list\n",
            "6This is Doubled List\n",
            "4This shows elements in list\n",
            "8This is Doubled List\n",
            "[4, 6, 8] Length or index total\n"
          ]
        }
      ]
    }
  ]
}